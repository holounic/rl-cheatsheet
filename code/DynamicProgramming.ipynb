{
 "cells": [
  {
   "cell_type": "code",
   "execution_count": 1,
   "id": "8193b9a0",
   "metadata": {},
   "outputs": [
    {
     "name": "stdout",
     "output_type": "stream",
     "text": [
      "Requirement already satisfied: rl_util in /Users/masha/Desktop/rl-cheatsheet/rl-util (0.0.2)\n",
      "Requirement already satisfied: jax in /usr/local/lib/python3.9/site-packages (from rl_util) (0.3.0)\n",
      "Requirement already satisfied: pandas in /usr/local/lib/python3.9/site-packages (from rl_util) (1.3.4)\n",
      "Requirement already satisfied: opt-einsum in /usr/local/lib/python3.9/site-packages (from jax->rl_util) (3.3.0)\n",
      "Requirement already satisfied: typing-extensions in /usr/local/lib/python3.9/site-packages (from jax->rl_util) (3.10.0.2)\n",
      "Requirement already satisfied: absl-py in /usr/local/lib/python3.9/site-packages (from jax->rl_util) (1.0.0)\n",
      "Requirement already satisfied: numpy>=1.19 in /usr/local/lib/python3.9/site-packages (from jax->rl_util) (1.20.3)\n",
      "Requirement already satisfied: scipy>=1.2.1 in /usr/local/lib/python3.9/site-packages (from jax->rl_util) (1.7.2)\n",
      "Requirement already satisfied: python-dateutil>=2.7.3 in /usr/local/lib/python3.9/site-packages (from pandas->rl_util) (2.8.2)\n",
      "Requirement already satisfied: pytz>=2017.3 in /usr/local/lib/python3.9/site-packages (from pandas->rl_util) (2021.1)\n",
      "Requirement already satisfied: six>=1.5 in /usr/local/Cellar/protobuf/3.14.0/libexec/lib/python3.9/site-packages (from python-dateutil>=2.7.3->pandas->rl_util) (1.15.0)\n"
     ]
    }
   ],
   "source": [
    "!pip3 install rl_util"
   ]
  },
  {
   "cell_type": "code",
   "execution_count": 15,
   "id": "e9d029b7",
   "metadata": {},
   "outputs": [],
   "source": [
    "import jax\n",
    "import jax.numpy as jnp\n",
    "import jax.random as random\n",
    "from rl_util.environment import MarkovEnv\n",
    "from rl_util.generator import simple_circle\n",
    "from rl_util.test import test_policy\n",
    "from rl_util.policy import StochasticPolicy, DeterministicPolicy"
   ]
  },
  {
   "cell_type": "markdown",
   "id": "c61d811d",
   "metadata": {},
   "source": [
    "## Policy evaluation"
   ]
  },
  {
   "cell_type": "code",
   "execution_count": 3,
   "id": "ee6f2791",
   "metadata": {},
   "outputs": [],
   "source": [
    "def policy_evaluation(policy, markov, theta: float, phi: float):\n",
    "    v = jnp.zeros(markov.state_space())\n",
    "    delta = float('inf')\n",
    "    while delta > theta:\n",
    "        delta = 0\n",
    "        for s in markov.states():\n",
    "            old_v = v[s]\n",
    "            v_s = 0.\n",
    "            a = policy(s)\n",
    "            for s_dot in markov.next_states(s):\n",
    "                for r in markov.rewards(s_dot):\n",
    "                    v_s += markov.p(s, a, r, s_dot) * (r + phi * v[s_dot])\n",
    "            v = v.at[s].set(v_s)\n",
    "            delta = max(delta, abs(v_s - old_v))\n",
    "    return v"
   ]
  },
  {
   "cell_type": "markdown",
   "id": "d821a7e5",
   "metadata": {},
   "source": [
    "## Policy improvement"
   ]
  },
  {
   "cell_type": "code",
   "execution_count": 8,
   "id": "95e8826c",
   "metadata": {},
   "outputs": [],
   "source": [
    "def policy_improvement(markov, v, phi: float, policy=None):\n",
    "    if policy is None:\n",
    "        policy = DeterministicPolicy(state_space=markov.state_space(), action_space=markov.action_space())\n",
    "    \n",
    "    policy_stable = True\n",
    "    for s in markov.states():\n",
    "        old_action = policy(s)\n",
    "        max_a, max_value = markov.actions(s)[0], float('-inf')\n",
    "        for a in markov.actions(s):\n",
    "            cur_value = 0\n",
    "            for s_dot in markov.next_states(s):\n",
    "                    for r in markov.rewards(s_dot):\n",
    "                        cur_value += markov.p(s, a, r, s_dot) * (r + phi * v[s_dot])\n",
    "            if cur_value > max_value:\n",
    "                max_a = a\n",
    "                max_value = cur_value\n",
    "        if old_action == max_a:\n",
    "            continue\n",
    "        policy.update(s, max_a)\n",
    "        policy_stable = False\n",
    "    return policy, policy_stable"
   ]
  },
  {
   "cell_type": "markdown",
   "id": "aaed058e",
   "metadata": {},
   "source": [
    "## Policy iteration"
   ]
  },
  {
   "cell_type": "code",
   "execution_count": 9,
   "id": "e7fd0322",
   "metadata": {},
   "outputs": [],
   "source": [
    "def policy_iteration(markov, theta: float, phi: float):\n",
    "    policy = DeterministicPolicy(state_space=markov.state_space(), action_space=markov.action_space())\n",
    "    \n",
    "    while True:\n",
    "        v = policy_evaluation(policy, markov, theta, phi)\n",
    "        policy, policy_stable = policy_improvement(markov, v, phi, policy)\n",
    "        if policy_stable:\n",
    "            return policy, v"
   ]
  },
  {
   "cell_type": "code",
   "execution_count": 10,
   "id": "1fe15ba0",
   "metadata": {},
   "outputs": [],
   "source": [
    "theta = 0.9\n",
    "phi = 0.99\n",
    "state_space = 4\n",
    "action_space = 2\n",
    "\n",
    "markov = simple_circle(state_space=state_space, action_space=action_space)"
   ]
  },
  {
   "cell_type": "code",
   "execution_count": 11,
   "id": "5b32c0bd",
   "metadata": {},
   "outputs": [],
   "source": [
    "policy, value = policy_iteration(markov, theta, phi)"
   ]
  },
  {
   "cell_type": "code",
   "execution_count": 13,
   "id": "d12f8370",
   "metadata": {},
   "outputs": [
    {
     "data": {
      "text/plain": [
       "DeviceArray([-1.,  0.,  0.,  0.], dtype=float32)"
      ]
     },
     "execution_count": 13,
     "metadata": {},
     "output_type": "execute_result"
    }
   ],
   "source": [
    "value"
   ]
  },
  {
   "cell_type": "code",
   "execution_count": 17,
   "id": "c453130d",
   "metadata": {},
   "outputs": [
    {
     "name": "stdout",
     "output_type": "stream",
     "text": [
      "Finished in 2 steps, reward: -4.0\n"
     ]
    }
   ],
   "source": [
    "test_policy(markov, policy)"
   ]
  },
  {
   "cell_type": "markdown",
   "id": "d72dd67d",
   "metadata": {},
   "source": [
    "## Value iteration"
   ]
  },
  {
   "cell_type": "code",
   "execution_count": 30,
   "id": "a7cc5f8e",
   "metadata": {},
   "outputs": [],
   "source": [
    "def value_iteration(markov, theta: float):\n",
    "    v = jnp.zeros(markov.state_space())\n",
    "    delta = float('inf')\n",
    "    \n",
    "    transitions = {s: None for s in markov.states()}\n",
    "    while delta > theta:\n",
    "        delta = 0\n",
    "        for s in markov.states():\n",
    "            old_v = v[s]\n",
    "            max_a, max_value = markov.actions(s)[0], float('-inf')\n",
    "            for a in markov.actions(s):\n",
    "                cur_value = 0\n",
    "                for s_dot in markov.next_states(s):\n",
    "                        for r in markov.rewards(s_dot):\n",
    "                            cur_value += markov.p(s, a, r, s_dot) * (r + phi * v[s_dot])\n",
    "                if cur_value > max_value:\n",
    "                    max_a = a\n",
    "                    max_value = cur_value\n",
    "            transitions[s] = max_a\n",
    "            v = v.at[s].set(max_value)\n",
    "            delta = max(delta, abs(old_v - v[s]))\n",
    "    return v"
   ]
  },
  {
   "cell_type": "code",
   "execution_count": 32,
   "id": "ea3a3d14",
   "metadata": {},
   "outputs": [
    {
     "data": {
      "text/plain": [
       "DeviceArray([-1.,  0.,  0.,  0.], dtype=float32)"
      ]
     },
     "execution_count": 32,
     "metadata": {},
     "output_type": "execute_result"
    }
   ],
   "source": [
    "value_iteration(markov, theta=1e-3)"
   ]
  },
  {
   "cell_type": "code",
   "execution_count": null,
   "id": "5a6194bd",
   "metadata": {},
   "outputs": [],
   "source": []
  }
 ],
 "metadata": {
  "kernelspec": {
   "display_name": "Python 3 (ipykernel)",
   "language": "python",
   "name": "python3"
  },
  "language_info": {
   "codemirror_mode": {
    "name": "ipython",
    "version": 3
   },
   "file_extension": ".py",
   "mimetype": "text/x-python",
   "name": "python",
   "nbconvert_exporter": "python",
   "pygments_lexer": "ipython3",
   "version": "3.9.7"
  }
 },
 "nbformat": 4,
 "nbformat_minor": 5
}
