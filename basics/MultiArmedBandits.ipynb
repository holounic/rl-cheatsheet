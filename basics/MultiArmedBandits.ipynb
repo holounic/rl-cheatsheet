{
 "cells": [
  {
   "cell_type": "code",
   "execution_count": 15,
   "id": "46da0462",
   "metadata": {},
   "outputs": [],
   "source": [
    "import jax\n",
    "import jax.numpy as jnp\n",
    "from jax import random"
   ]
  },
  {
   "cell_type": "code",
   "execution_count": 289,
   "id": "9d1a7c16",
   "metadata": {},
   "outputs": [],
   "source": [
    "class Bandit:\n",
    "    def __init__(self, k: int):\n",
    "        self.k = k\n",
    "    \n",
    "    def train(self, reward_func, seed: int, steps: int):\n",
    "        raise NotImplementedException()\n",
    "        \n",
    "    def action_value(self):\n",
    "        raise NotImplementedException()"
   ]
  },
  {
   "cell_type": "markdown",
   "id": "2ccaeed5",
   "metadata": {},
   "source": [
    "## Eps-greedy bandit"
   ]
  },
  {
   "cell_type": "code",
   "execution_count": 290,
   "id": "f4a4123c",
   "metadata": {},
   "outputs": [],
   "source": [
    "class EpsGreedyBandit(Bandit):\n",
    "    def __init__(self, k: int, eps: float):\n",
    "        super().__init__(k)\n",
    "        self.q = jnp.zeros(k)\n",
    "        self.n = jnp.zeros(k)\n",
    "        self.eps = eps\n",
    "    \n",
    "    def __next_key(self):\n",
    "        self.key = random.split(self.key)[0]\n",
    "    \n",
    "    def _action(self, _):\n",
    "        if random.normal(self.key) < self.eps:\n",
    "            self.__next_key()\n",
    "            a = random.randint(self.key, (1,), 0, self.k).item()\n",
    "        else:\n",
    "            a = int(jnp.argmax(self.q))\n",
    "        self.__next_key()\n",
    "        return a\n",
    "    \n",
    "    def train(self, reward_func, seed: int, steps: int):\n",
    "        self.key = random.PRNGKey(seed)\n",
    "        for t in range(steps):\n",
    "            a = self._action(t)\n",
    "            r = reward_func(a)\n",
    "            self.n = self.n.at[a].set(self.n[a] + 1)\n",
    "            self.q = self.q.at[a].set(self.q[a] + (r - self.q[a]) / self.n[a])\n",
    "            \n",
    "    def action_value(self):\n",
    "        return self.q"
   ]
  },
  {
   "cell_type": "code",
   "execution_count": 291,
   "id": "06c45a8b",
   "metadata": {},
   "outputs": [],
   "source": [
    "def reward_func_generator(means, stds, seed: int):\n",
    "    key = random.PRNGKey(seed)\n",
    "    def func(a):\n",
    "        nonlocal key\n",
    "        mean = means[a]\n",
    "        std = stds[a]\n",
    "        value = random.normal(key) * std + mean\n",
    "        key = random.split(key)[0]\n",
    "        return value\n",
    "    return func"
   ]
  },
  {
   "cell_type": "code",
   "execution_count": 293,
   "id": "1e8be70c",
   "metadata": {},
   "outputs": [],
   "source": [
    "reward_seed = 11\n",
    "reward_func = reward_func_generator([0, 1, 2], [0.1, 0.3, 0.7], reward_seed)\n",
    "\n",
    "eps = 0.5\n",
    "bandit_seed = 2\n",
    "steps = 100\n",
    "\n",
    "eps_greedy = EpsGreedyBandit(3, eps)\n",
    "eps_greedy.train(reward_func, bandit_seed, steps)"
   ]
  },
  {
   "cell_type": "code",
   "execution_count": 294,
   "id": "89f0ec78",
   "metadata": {},
   "outputs": [
    {
     "data": {
      "text/plain": [
       "DeviceArray([-0.00528179,  1.050063  ,  2.0207396 ], dtype=float32)"
      ]
     },
     "execution_count": 294,
     "metadata": {},
     "output_type": "execute_result"
    }
   ],
   "source": [
    "eps_greedy.action_value()"
   ]
  },
  {
   "cell_type": "markdown",
   "id": "851aa2b9",
   "metadata": {},
   "source": [
    "## Optimistic initial values"
   ]
  },
  {
   "cell_type": "code",
   "execution_count": 242,
   "id": "3abc073f",
   "metadata": {},
   "outputs": [],
   "source": [
    "class OptimisticInitialValueBandit(EpsGreedyBandit):\n",
    "    def __init__(self, k: int, eps: float, initial_q: float):\n",
    "        super().__init__(k, eps)\n",
    "        \n",
    "        self.q = initial_q * jnp.ones_like(self.q)"
   ]
  },
  {
   "cell_type": "code",
   "execution_count": 249,
   "id": "b6b8f55c",
   "metadata": {},
   "outputs": [],
   "source": [
    "initial_value = 5.\n",
    "optimistic_bandit = OptimisticInitialValueBandit(3, eps, initial_value)\n",
    "optimistic_bandit.train(reward_func, bandit_seed, steps)"
   ]
  },
  {
   "cell_type": "code",
   "execution_count": 250,
   "id": "3e320034",
   "metadata": {},
   "outputs": [
    {
     "data": {
      "text/plain": [
       "DeviceArray([0.00525586, 0.9327261 , 1.996768  ], dtype=float32)"
      ]
     },
     "execution_count": 250,
     "metadata": {},
     "output_type": "execute_result"
    }
   ],
   "source": [
    "optimistic_bandit.q"
   ]
  },
  {
   "cell_type": "markdown",
   "id": "a792fc4a",
   "metadata": {},
   "source": [
    "## Upper-confidence-bound action selection"
   ]
  },
  {
   "cell_type": "code",
   "execution_count": 279,
   "id": "7bdbf4fd",
   "metadata": {},
   "outputs": [],
   "source": [
    "class UpperConfidenceBoundAction(EpsGreedyBandit):\n",
    "    def __init__(self, k: int, eps: float, c: float):\n",
    "        super().__init__(k, eps)\n",
    "        self.c = c\n",
    "    \n",
    "    def __action(self, t):\n",
    "        self.q_ucb = jnp.zeros_like(self.q)\n",
    "        for action in range(self.k):\n",
    "            self.q_ucb = self.q_ucb.at[action].set(self.q[action] + self.c * jnp.sqrt(jnp.ln(t) / self.n[action]))\n",
    "        return jnp.argmax(self.q_ucb)"
   ]
  },
  {
   "cell_type": "code",
   "execution_count": 283,
   "id": "f98e28a8",
   "metadata": {},
   "outputs": [],
   "source": [
    "c = 0.6\n",
    "ucb_bandit = UpperConfidenceBoundAction(3, eps, 0.6)\n",
    "ucb_bandit.train(reward_func, bandit_seed, steps)"
   ]
  },
  {
   "cell_type": "code",
   "execution_count": 284,
   "id": "ae0b0d56",
   "metadata": {},
   "outputs": [
    {
     "data": {
      "text/plain": [
       "DeviceArray([0.00236601, 0.9279048 , 2.2617695 ], dtype=float32)"
      ]
     },
     "execution_count": 284,
     "metadata": {},
     "output_type": "execute_result"
    }
   ],
   "source": [
    "ucb_bandit.q"
   ]
  },
  {
   "cell_type": "markdown",
   "id": "e8ba3bc5",
   "metadata": {},
   "source": [
    "## Gradient bandit algorithm"
   ]
  },
  {
   "cell_type": "code",
   "execution_count": 295,
   "id": "845526c7",
   "metadata": {},
   "outputs": [],
   "source": [
    "import random as standard_random"
   ]
  },
  {
   "cell_type": "code",
   "execution_count": 340,
   "id": "ad5522cb",
   "metadata": {},
   "outputs": [],
   "source": [
    "class GradientBandit(Bandit):\n",
    "    def __init__(self, k: int, alpha: float):\n",
    "        super().__init__(k)\n",
    "        self.alpha = alpha\n",
    "\n",
    "        self.h = jnp.ones(self.k) * (1 / self.k)\n",
    "    \n",
    "    def probability(self, a):\n",
    "        return jnp.exp(self.h[a]) / sum([jnp.exp(self.h[a_dot]) for a_dot in range(self.k)])\n",
    "    \n",
    "    def train(self, reward_func, seed: int, steps: int):\n",
    "        actions = list(range(self.k))\n",
    "        r_sum = 0.\n",
    "        for t in range(1, steps + 1):\n",
    "            a = standard_random.choices(actions, self.h)[0]\n",
    "            r = reward_func(a)\n",
    "            r_sum += r\n",
    "            self.h_dot = jnp.array(self.h.copy())\n",
    "            self.h_dot = self.h_dot.at[a].set(self.h[a] + self.alpha * (r - r_sum / t) * (1 - self.probability(a)))\n",
    "            for action in actions:\n",
    "                if a == action:\n",
    "                    continue\n",
    "                self.h_dot = self.h_dot.at[action].set(self.h[action] + self.alpha * (r - r_sum / t) * self.probability(action))\n",
    "            self.h = self.h_dot\n",
    "    \n",
    "    def action_value(self):\n",
    "        return self. h"
   ]
  },
  {
   "cell_type": "code",
   "execution_count": 341,
   "id": "372358e3",
   "metadata": {},
   "outputs": [],
   "source": [
    "alpha = .1\n",
    "gradient_bandit = GradientBandit(3, alpha)\n",
    "\n",
    "gradient_bandit.train(reward_func, bandit_seed, steps)"
   ]
  },
  {
   "cell_type": "code",
   "execution_count": 342,
   "id": "ba264cdf",
   "metadata": {},
   "outputs": [
    {
     "data": {
      "text/plain": [
       "DeviceArray([-0.05833293,  0.14452372,  1.007199  ], dtype=float32)"
      ]
     },
     "execution_count": 342,
     "metadata": {},
     "output_type": "execute_result"
    }
   ],
   "source": [
    "gradient_bandit.action_value()"
   ]
  },
  {
   "cell_type": "code",
   "execution_count": null,
   "id": "8dfaf69b",
   "metadata": {},
   "outputs": [],
   "source": []
  }
 ],
 "metadata": {
  "kernelspec": {
   "display_name": "Python 3 (ipykernel)",
   "language": "python",
   "name": "python3"
  },
  "language_info": {
   "codemirror_mode": {
    "name": "ipython",
    "version": 3
   },
   "file_extension": ".py",
   "mimetype": "text/x-python",
   "name": "python",
   "nbconvert_exporter": "python",
   "pygments_lexer": "ipython3",
   "version": "3.9.7"
  }
 },
 "nbformat": 4,
 "nbformat_minor": 5
}
